{
 "cells": [
  {
   "cell_type": "markdown",
   "metadata": {},
   "source": [
    "# 1. Initial Data Exploration & Model Loading\n",
    "\n",
    "This notebook demonstrates how to load the CTBN model configurations from JSON files and instantiate the corresponding model classes."
   ]
  },
  {
   "cell_type": "code",
   "execution_count": 2,
   "metadata": {},
   "outputs": [
    {
     "ename": "ModuleNotFoundError",
     "evalue": "No module named 'numpy'",
     "output_type": "error",
     "traceback": [
      "\u001b[31m---------------------------------------------------------------------------\u001b[39m",
      "\u001b[31mModuleNotFoundError\u001b[39m                       Traceback (most recent call last)",
      "\u001b[36mCell\u001b[39m\u001b[36m \u001b[39m\u001b[32mIn[2]\u001b[39m\u001b[32m, line 2\u001b[39m\n\u001b[32m      1\u001b[39m \u001b[38;5;28;01mimport\u001b[39;00m\u001b[38;5;250m \u001b[39m\u001b[34;01mjson\u001b[39;00m\n\u001b[32m----> \u001b[39m\u001b[32m2\u001b[39m \u001b[38;5;28;01mimport\u001b[39;00m\u001b[38;5;250m \u001b[39m\u001b[34;01mnumpy\u001b[39;00m\u001b[38;5;250m \u001b[39m\u001b[38;5;28;01mas\u001b[39;00m\u001b[38;5;250m \u001b[39m\u001b[34;01mnp\u001b[39;00m\n\u001b[32m      3\u001b[39m \u001b[38;5;28;01mimport\u001b[39;00m\u001b[38;5;250m \u001b[39m\u001b[34;01msys\u001b[39;00m\n\u001b[32m      4\u001b[39m \u001b[38;5;28;01mimport\u001b[39;00m\u001b[38;5;250m \u001b[39m\u001b[34;01mos\u001b[39;00m\n",
      "\u001b[31mModuleNotFoundError\u001b[39m: No module named 'numpy'"
     ]
    }
   ],
   "source": [
    "import json\n",
    "import numpy as np\n",
    "import sys\n",
    "import os\n",
    "\n",
    "# Add the src directory to the Python path to import our modules\n",
    "project_root = os.path.abspath(os.path.join(os.getcwd(), '..'))\n",
    "src_path = os.path.join(project_root, 'src')\n",
    "if src_path not in sys.path:\n",
    "    sys.path.append(src_path)\n",
    "\n",
    "from neurograph.ctbn import CTBNMarkovModel, AnticonvulsantCTBNMarkovModel"
   ]
  },
  {
   "cell_type": "markdown",
   "metadata": {},
   "source": [
    "## Load Model Configurations from JSON"
   ]
  },
  {
   "cell_type": "code",
   "execution_count": null,
   "metadata": {},
   "outputs": [],
   "source": [
    "kuo_bean_config_path = '../data/kuo_bean_12_state.json'\n",
    "drug_extended_config_path = '../data/drug_extended_25_state.json'\n",
    "\n",
    "with open(kuo_bean_config_path, 'r') as f:\n",
    "    kuo_bean_config = json.load(f)\n",
    "\n",
    "with open(drug_extended_config_path, 'r') as f:\n",
    "    drug_extended_config = json.load(f)\n",
    "\n",
    "print(\"Successfully loaded model configurations!\")"
   ]
  },
  {
   "cell_type": "markdown",
   "metadata": {},
   "source": [
    "## Instantiate the Models"
   ]
  },
  {
   "cell_type": "code",
   "execution_count": null,
   "metadata": {},
   "outputs": [],
   "source": [
    "# 1. Instantiate the 12-state Kuo & Bean model\n",
    "kuo_bean_model = CTBNMarkovModel(config=kuo_bean_config)\n",
    "print(f\"--- {kuo_bean_model.model_name} ---\")\n",
    "print(f\"Number of states: {kuo_bean_model.num_states}\")\n",
    "print(f\"Alpha coefficient (alcoeff): {kuo_bean_model.alcoeff}\")\n",
    "print(\"\\n\")\n",
    "\n",
    "# 2. Instantiate the 25-state drug-extended model (using DPH as an example)\n",
    "drug_model = AnticonvulsantCTBNMarkovModel(config=drug_extended_config, drug_concentration=10.0, drug_type='DPH')\n",
    "print(f\"--- {drug_model.model_name} ---\")\n",
    "print(f\"Number of states: {drug_model.num_states}\")\n",
    "print(f\"Drug type: {drug_model.drug_type}\")\n",
    "print(f\"KI for inactivated state: {drug_model.KI_inactivated}\")"
   ]
  }
 ],
 "metadata": {
  "kernelspec": {
   "display_name": "venv",
   "language": "python",
   "name": "python3"
  },
  "language_info": {
   "codemirror_mode": {
    "name": "ipython",
    "version": 3
   },
   "file_extension": ".py",
   "mimetype": "text/x-python",
   "name": "python",
   "nbconvert_exporter": "python",
   "pygments_lexer": "ipython3",
   "version": "3.11.11"
  }
 },
 "nbformat": 4,
 "nbformat_minor": 4
}
